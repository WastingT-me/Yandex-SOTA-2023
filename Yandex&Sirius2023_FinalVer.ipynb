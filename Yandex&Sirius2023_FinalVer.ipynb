{
  "nbformat": 4,
  "nbformat_minor": 0,
  "metadata": {
    "colab": {
      "provenance": []
    },
    "kernelspec": {
      "name": "python3",
      "display_name": "Python 3"
    },
    "language_info": {
      "name": "python"
    }
  },
  "cells": [
    {
      "cell_type": "markdown",
      "source": [
        "#Problem 1 (Solved)"
      ],
      "metadata": {
        "id": "L3_KuS8F5LS8"
      }
    },
    {
      "cell_type": "code",
      "source": [
        "import numpy as np\n",
        "n = int(input())\n",
        "string = str(input())\n",
        "a = np.fromstring(string, dtype=int, sep=' ')\n",
        "dict = {}\n",
        "for elem in a:\n",
        "    if elem not in dict.keys(): dict[elem] = 1\n",
        "    else: dict[elem]+=1\n",
        "\n",
        "print(max(dict.items(), key=lambda t: (t[1], t[0]))[0])"
      ],
      "metadata": {
        "colab": {
          "base_uri": "https://localhost:8080/"
        },
        "id": "OrlS98IE0sQ3",
        "outputId": "129793c5-ae3b-4dd1-d368-19bd6dc358e5"
      },
      "execution_count": null,
      "outputs": [
        {
          "output_type": "stream",
          "name": "stdout",
          "text": [
            "4 \n",
            "1 1 2 2 \n",
            "2\n"
          ]
        }
      ]
    },
    {
      "cell_type": "markdown",
      "source": [
        "# Problem 2 (Not Solved - Time Limit)"
      ],
      "metadata": {
        "id": "WSXyW3Y-5P5y"
      }
    },
    {
      "cell_type": "markdown",
      "source": [
        "## C++"
      ],
      "metadata": {
        "id": "ccVsqZqsR-mZ"
      }
    },
    {
      "cell_type": "code",
      "source": [
        "#include <iostream>\n",
        "#include <vector>\n",
        "#include <string>\n",
        "\n",
        "int main() {\n",
        "    int n;\n",
        "    std::cin >> n;\n",
        "    std::vector<std::string> list_;\n",
        "    for (int i = 0; i < n; i++) {\n",
        "        std::string input;\n",
        "        std::cin >> input;\n",
        "        list_.push_back(input);\n",
        "    }\n",
        "    for (int i = 0; i < n; i++) {\n",
        "        for (int j = 0; j < n; j++) {\n",
        "            if (i != j) {\n",
        "//                std::cout << list_[i].front() << \" \" << list_[j].back() << std::endl;\n",
        "                if (list_[i].front() == list_[j].back()) {\n",
        "                    if (!(i > j && list_[i] == list_[j])) {\n",
        "                        std::string string = list_[i] + list_[j];\n",
        "//                        std::cout << string << \" \" << string.substr(0, string.length() / 2) << \" \" << std::string(string.rbegin(), string.rend()).substr(0, string.length() / 2) << std::endl;\n",
        "                        if (string.substr(0, string.length() / 2) == std::string(string.rbegin(), string.rend()).substr(0, string.length() / 2)) {\n",
        "                            std::cout << i + 1 << \" \" << j + 1 << std::endl;\n",
        "                        }\n",
        "                    }\n",
        "                }\n",
        "            }\n",
        "        }\n",
        "    }\n",
        "    return 0;\n",
        "}"
      ],
      "metadata": {
        "id": "zul3NbfwIuf3"
      },
      "execution_count": null,
      "outputs": []
    },
    {
      "cell_type": "markdown",
      "source": [
        "dict"
      ],
      "metadata": {
        "id": "TzZgnrISIidl"
      }
    },
    {
      "cell_type": "code",
      "source": [
        "#include <iostream>\n",
        "#include <vector>\n",
        "#include <string>\n",
        "#include <unordered_map>\n",
        "\n",
        "bool is_pal(std::string string) {\n",
        "    unsigned char len_str = string.length();\n",
        "    return string.substr(0, len_str/2) == std::string(string.rbegin(), string.rend()).substr(0, len_str/2);\n",
        "}\n",
        "\n",
        "int main() {\n",
        "    int n;\n",
        "    std::unordered_map<std::string, bool> dict_;\n",
        "    std::cin >> n;\n",
        "    std::vector<std::string> list_;\n",
        "    for (int i = 0; i < n; i++) {\n",
        "        std::string input;\n",
        "        std::cin >> input;\n",
        "        list_.push_back(input);\n",
        "    }\n",
        "    for (int i = 0; i < n; i++) {\n",
        "        for (int j = 0; j < n; j++) {\n",
        "            if (list_[i].front() == list_[j].back()) {\n",
        "                if (i != j) {\n",
        "                    if (!(i > j && list_[i] == list_[j])) {\n",
        "                        std::string string = list_[i] + list_[j];\n",
        "                        if (dict_.find(string) == dict_.end()) {\n",
        "                            dict_[string] = is_pal(string);\n",
        "                        }\n",
        "                        if (dict_[string]) {\n",
        "                            std::cout << i + 1 << \" \" << j + 1 << std::endl;\n",
        "                        } else {\n",
        "                            dict_.erase(string);\n",
        "                        }\n",
        "                    }\n",
        "                }\n",
        "            }\n",
        "        }\n",
        "    }\n",
        "    return 0;\n",
        "}"
      ],
      "metadata": {
        "id": "FGDX-RM0Ia-X"
      },
      "execution_count": null,
      "outputs": []
    },
    {
      "cell_type": "markdown",
      "source": [
        "# Problem 3 (Solved)"
      ],
      "metadata": {
        "id": "CfBOdaoqtH3W"
      }
    },
    {
      "cell_type": "code",
      "source": [
        "t = int(input())\n",
        "\n",
        "for i in range(t):\n",
        "    a, x_0, y_0, z_0, b, x_1, y_1, z_1 = map(int, input().split())\n",
        "    if (a!=b):\n",
        "        D_y = (a*y_0 - b*y_1)**2 + (a*x_0 - b*x_1)**2 - (a - b)*(a*x_0**2 - b*x_1**2 + a*y_0**2 - b*y_1**2 + z_0 - z_1)\n",
        "        if (D_y==0): print(1)\n",
        "        elif (D_y < 0): print(0)\n",
        "        else: print('Inf')\n",
        "    else:\n",
        "        if ((x_0==x_1) and (y_0==y_1) and (a*x_0**2 - b*x_1**2 + a*y_0**2 - b*y_1**2 + z_0 - z_1 != 0)): print(0)\n",
        "        else: print('Inf')"
      ],
      "metadata": {
        "colab": {
          "base_uri": "https://localhost:8080/"
        },
        "id": "mjF6I_yQtJ8a",
        "outputId": "cdd4370d-85bd-4597-bd1b-dbaf47c95692"
      },
      "execution_count": null,
      "outputs": [
        {
          "output_type": "stream",
          "name": "stdout",
          "text": [
            "3\n",
            "1 0 0 0 -1 0 0 0\n",
            "1\n",
            "1 0 0 0 1 0 0 1\n",
            "0\n",
            "1 0 0 0 -1 0 0 1\n",
            "Inf\n"
          ]
        }
      ]
    },
    {
      "cell_type": "markdown",
      "source": [
        "# Problem 4 (Solved)"
      ],
      "metadata": {
        "id": "BbQ08U9hB_MJ"
      }
    },
    {
      "cell_type": "code",
      "source": [
        "n, k = map(int, input().split())\n",
        "list_ = []\n",
        "diff = []\n",
        "list_.append(int(input()))\n",
        "for i in range(n-1):\n",
        "    string = int(input())\n",
        "    diff.append(list_[i] - string + 1)\n",
        "    list_.append(string)\n",
        "diff.append(list_[-1])\n",
        "l = n - 1\n",
        "k_temp = k\n",
        "while((k_temp>0) and (l > -1)):\n",
        "    k_temp-=diff[l]\n",
        "    l-=1\n",
        "if (l==-1): print('0')\n",
        "else:\n",
        "    i = 0\n",
        "    count = 0\n",
        "    j = i\n",
        "    k_temp = k\n",
        "    while((k_temp>0) and (j < n - 1)):\n",
        "        k_temp-=diff[j]\n",
        "        j+=1\n",
        "    if (((k_temp > 0) and (k_temp-list_[j] <=0)) or (k_temp <= -1)): count+=1\n",
        "    i+=1\n",
        "    while(i < l + 2):\n",
        "        k_temp = k_temp + diff[i - 1]\n",
        "        while((k_temp>0) and (j < n - 1)):\n",
        "            k_temp-=diff[j]\n",
        "            j+=1\n",
        "        if (((k_temp > 0) and (k_temp-list_[j] <=0)) or (k_temp <= -1)): count+=1\n",
        "        i+=1\n",
        "    print(count)"
      ],
      "metadata": {
        "id": "URgfCNj4JOK3"
      },
      "execution_count": null,
      "outputs": []
    }
  ]
}